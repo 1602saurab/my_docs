{
 "cells": [
  {
   "cell_type": "markdown",
   "id": "38f8d779",
   "metadata": {},
   "source": [
    "# Python ==> Python is an interpreted , high-level programming language which was invented in 1991 by Guido Van Rossoum ."
   ]
  },
  {
   "cell_type": "code",
   "execution_count": 1,
   "id": "935781f4",
   "metadata": {},
   "outputs": [],
   "source": [
    "# (1). Fundamentals of Python ===>\n",
    "# (1). Data type\n",
    "# (2). Variable \n",
    "# (3). print() and input() "
   ]
  },
  {
   "cell_type": "code",
   "execution_count": 2,
   "id": "9e729a48",
   "metadata": {},
   "outputs": [],
   "source": [
    "# (1). Data types ===>\n",
    "# (a). Integer ==> -34 , 56 , 8999\n",
    "# (b). Float ===> 67.89 , 1234.689\n",
    "# (c). String ===> 'sam' , \"mohit\"\n",
    "# (d). Boolean ==> TRUE , FALSE"
   ]
  },
  {
   "cell_type": "code",
   "execution_count": 3,
   "id": "74bda08b",
   "metadata": {},
   "outputs": [
    {
     "data": {
      "text/plain": [
       "int"
      ]
     },
     "execution_count": 3,
     "metadata": {},
     "output_type": "execute_result"
    }
   ],
   "source": [
    "type(45)"
   ]
  },
  {
   "cell_type": "code",
   "execution_count": 4,
   "id": "ec77db3b",
   "metadata": {},
   "outputs": [
    {
     "data": {
      "text/plain": [
       "float"
      ]
     },
     "execution_count": 4,
     "metadata": {},
     "output_type": "execute_result"
    }
   ],
   "source": [
    "type(67.34)"
   ]
  },
  {
   "cell_type": "code",
   "execution_count": 5,
   "id": "3c71a346",
   "metadata": {},
   "outputs": [
    {
     "data": {
      "text/plain": [
       "str"
      ]
     },
     "execution_count": 5,
     "metadata": {},
     "output_type": "execute_result"
    }
   ],
   "source": [
    "type('sam')"
   ]
  },
  {
   "cell_type": "code",
   "execution_count": 6,
   "id": "6bcbec76",
   "metadata": {},
   "outputs": [
    {
     "data": {
      "text/plain": [
       "str"
      ]
     },
     "execution_count": 6,
     "metadata": {},
     "output_type": "execute_result"
    }
   ],
   "source": [
    "type(\"mohit\")"
   ]
  },
  {
   "cell_type": "code",
   "execution_count": 7,
   "id": "f68a1a3c",
   "metadata": {},
   "outputs": [
    {
     "data": {
      "text/plain": [
       "bool"
      ]
     },
     "execution_count": 7,
     "metadata": {},
     "output_type": "execute_result"
    }
   ],
   "source": [
    "a = 5>4\n",
    "type(a)"
   ]
  },
  {
   "cell_type": "code",
   "execution_count": 8,
   "id": "48bb05dc",
   "metadata": {},
   "outputs": [
    {
     "data": {
      "text/plain": [
       "True"
      ]
     },
     "execution_count": 8,
     "metadata": {},
     "output_type": "execute_result"
    }
   ],
   "source": [
    "a"
   ]
  },
  {
   "cell_type": "code",
   "execution_count": 9,
   "id": "63429017",
   "metadata": {},
   "outputs": [],
   "source": [
    "# Variable ==> \n",
    "a = 56 "
   ]
  },
  {
   "cell_type": "code",
   "execution_count": 11,
   "id": "d3dc6824",
   "metadata": {},
   "outputs": [],
   "source": [
    "sam_gupta = 56787"
   ]
  },
  {
   "cell_type": "code",
   "execution_count": 13,
   "id": "ad16283b",
   "metadata": {},
   "outputs": [],
   "source": [
    "# 9 = \"sam\""
   ]
  },
  {
   "cell_type": "code",
   "execution_count": 14,
   "id": "1e0618b5",
   "metadata": {},
   "outputs": [],
   "source": [
    "# Comments in python(cntrl+/ , shift+3) ===> \n",
    "\n",
    "# (1). Inline ==> \n",
    "# (2). Multi-line ==> \n",
    "# (3). Doc-String ==> '''this is my message'''"
   ]
  },
  {
   "cell_type": "code",
   "execution_count": 15,
   "id": "04d958c5",
   "metadata": {},
   "outputs": [
    {
     "data": {
      "text/plain": [
       "'1234'"
      ]
     },
     "execution_count": 15,
     "metadata": {},
     "output_type": "execute_result"
    }
   ],
   "source": [
    "# input() ====> \n",
    "'12'+'34'"
   ]
  },
  {
   "cell_type": "code",
   "execution_count": 16,
   "id": "0aabb2df",
   "metadata": {},
   "outputs": [
    {
     "data": {
      "text/plain": [
       "46"
      ]
     },
     "execution_count": 16,
     "metadata": {},
     "output_type": "execute_result"
    }
   ],
   "source": [
    "12+34"
   ]
  },
  {
   "cell_type": "code",
   "execution_count": 18,
   "id": "a270da21",
   "metadata": {},
   "outputs": [
    {
     "name": "stdout",
     "output_type": "stream",
     "text": [
      "Enter your first number:12\n",
      "Enter your second number:34\n"
     ]
    },
    {
     "data": {
      "text/plain": [
       "'1234'"
      ]
     },
     "execution_count": 18,
     "metadata": {},
     "output_type": "execute_result"
    }
   ],
   "source": [
    "a = input(\"Enter your first number:\")\n",
    "b = input(\"Enter your second number:\")\n",
    "c = a + b \n",
    "c"
   ]
  },
  {
   "cell_type": "code",
   "execution_count": 19,
   "id": "cccbcfc1",
   "metadata": {},
   "outputs": [
    {
     "data": {
      "text/plain": [
       "str"
      ]
     },
     "execution_count": 19,
     "metadata": {},
     "output_type": "execute_result"
    }
   ],
   "source": [
    "# type-casting \n",
    "\n",
    "a = '56'\n",
    "type(a)"
   ]
  },
  {
   "cell_type": "code",
   "execution_count": 20,
   "id": "cc9b22f3",
   "metadata": {},
   "outputs": [
    {
     "data": {
      "text/plain": [
       "56"
      ]
     },
     "execution_count": 20,
     "metadata": {},
     "output_type": "execute_result"
    }
   ],
   "source": [
    "b = int(a)\n",
    "b"
   ]
  },
  {
   "cell_type": "code",
   "execution_count": 21,
   "id": "7d81eee1",
   "metadata": {},
   "outputs": [
    {
     "data": {
      "text/plain": [
       "int"
      ]
     },
     "execution_count": 21,
     "metadata": {},
     "output_type": "execute_result"
    }
   ],
   "source": [
    "type(b)"
   ]
  },
  {
   "cell_type": "code",
   "execution_count": 22,
   "id": "43ff4f12",
   "metadata": {},
   "outputs": [
    {
     "name": "stdout",
     "output_type": "stream",
     "text": [
      "Enter your first number:1\n",
      "Enter your second number:23\n"
     ]
    },
    {
     "data": {
      "text/plain": [
       "24"
      ]
     },
     "execution_count": 22,
     "metadata": {},
     "output_type": "execute_result"
    }
   ],
   "source": [
    "a = int(input(\"Enter your first number:\"))\n",
    "b = int(input(\"Enter your second number:\"))\n",
    "c = a + b\n",
    "c"
   ]
  },
  {
   "cell_type": "code",
   "execution_count": 24,
   "id": "2eb38be0",
   "metadata": {},
   "outputs": [
    {
     "name": "stdout",
     "output_type": "stream",
     "text": [
      "56\n",
      "sam\n"
     ]
    }
   ],
   "source": [
    "# print() ==> \n",
    "a =  56\n",
    "print(a)\n",
    "b = \"sam\"\n",
    "print(b)"
   ]
  },
  {
   "cell_type": "markdown",
   "id": "22b99715",
   "metadata": {},
   "source": [
    "# Conditional Statements in Python ===> "
   ]
  },
  {
   "cell_type": "code",
   "execution_count": 28,
   "id": "daa18bbc",
   "metadata": {},
   "outputs": [
    {
     "name": "stdout",
     "output_type": "stream",
     "text": [
      "Try Again...\n"
     ]
    }
   ],
   "source": [
    "a = \"punit\"\n",
    "if (a == \"sam\"):\n",
    "    print(\"Yes\")\n",
    "elif(a == \"Rahul\"):\n",
    "    print(\"No\")\n",
    "else:\n",
    "    print(\"Try Again...\")"
   ]
  },
  {
   "cell_type": "markdown",
   "id": "406a468d",
   "metadata": {},
   "source": [
    "# Loop in Python "
   ]
  },
  {
   "cell_type": "code",
   "execution_count": 31,
   "id": "ef1f2057",
   "metadata": {},
   "outputs": [
    {
     "name": "stdout",
     "output_type": "stream",
     "text": [
      "1\n",
      "2\n",
      "3\n"
     ]
    }
   ],
   "source": [
    "a = 1 \n",
    "print(a)\n",
    "b = 2\n",
    "print(b)\n",
    "c = 3\n",
    "print(c)"
   ]
  },
  {
   "cell_type": "code",
   "execution_count": 32,
   "id": "a814c580",
   "metadata": {},
   "outputs": [],
   "source": [
    "# (1).  For loop "
   ]
  },
  {
   "cell_type": "code",
   "execution_count": 38,
   "id": "897d2cff",
   "metadata": {},
   "outputs": [
    {
     "name": "stdout",
     "output_type": "stream",
     "text": [
      "D i g i t a l "
     ]
    }
   ],
   "source": [
    "# method -1 \n",
    "a = \"Digital\"\n",
    "for i in a :\n",
    "    print(i , end = \" \")"
   ]
  },
  {
   "cell_type": "code",
   "execution_count": 34,
   "id": "f1e15323",
   "metadata": {},
   "outputs": [
    {
     "data": {
      "text/plain": [
       "3"
      ]
     },
     "execution_count": 34,
     "metadata": {},
     "output_type": "execute_result"
    }
   ],
   "source": [
    "a = \"Sam\"\n",
    "len(a)"
   ]
  },
  {
   "cell_type": "code",
   "execution_count": 37,
   "id": "ccda2c6f",
   "metadata": {},
   "outputs": [
    {
     "data": {
      "text/plain": [
       "'m'"
      ]
     },
     "execution_count": 37,
     "metadata": {},
     "output_type": "execute_result"
    }
   ],
   "source": [
    "a[2]"
   ]
  },
  {
   "cell_type": "code",
   "execution_count": 42,
   "id": "672ba632",
   "metadata": {},
   "outputs": [
    {
     "name": "stdout",
     "output_type": "stream",
     "text": [
      "1\n",
      "3\n",
      "5\n",
      "7\n",
      "9\n",
      "11\n"
     ]
    }
   ],
   "source": [
    "# method - 2 \n",
    "for i in range(1,12, 2):\n",
    "    print(i)"
   ]
  },
  {
   "cell_type": "code",
   "execution_count": 43,
   "id": "9c2ae256",
   "metadata": {},
   "outputs": [],
   "source": [
    "# While loop  \n",
    "\n",
    "# (1). Initialization \n",
    "# (2). Condition \n",
    "# (3). Increment or decrement "
   ]
  },
  {
   "cell_type": "markdown",
   "id": "87fefbf4",
   "metadata": {},
   "source": [
    "# Q.1  Write a program who print from 1 to 4 ? "
   ]
  },
  {
   "cell_type": "code",
   "execution_count": 44,
   "id": "418021a6",
   "metadata": {},
   "outputs": [
    {
     "name": "stdout",
     "output_type": "stream",
     "text": [
      "1\n",
      "2\n",
      "3\n",
      "4\n"
     ]
    }
   ],
   "source": [
    "i = 1   #Initialization \n",
    "n = 4 \n",
    "while(i<=n):  #Condition \n",
    "    print(i)\n",
    "    i = i + 1  #Increment"
   ]
  },
  {
   "cell_type": "code",
   "execution_count": 45,
   "id": "dd1b7487",
   "metadata": {},
   "outputs": [],
   "source": [
    "# step-1  (i=1 , n = 4 )    #Output = 1 , 2 , 3 , 4 \n",
    "# while(1<=4):\n",
    "#     print(1)\n",
    "#     i = 1 + 1 =2 \n",
    "\n",
    "# step-2 (i=2 , n=4)\n",
    "# while(2<=4):\n",
    "#     print(2)\n",
    "#     i = 2 +1 = 3 \n",
    "\n",
    "# step-3 (i = 3 , n = 4)\n",
    "# while(3<=4):\n",
    "#     print(3)\n",
    "#     i = 3 +1 = 4 \n",
    "\n",
    "# step-4 (i = 4 , n = 4)\n",
    "# while(4<=4):\n",
    "#     print(4)\n",
    "#     i = 4 + 1 =  5 \n",
    "\n",
    "# step-5  (i = 5 , n = 4)\n",
    "# while(5<=4):\n",
    "#     break "
   ]
  },
  {
   "cell_type": "code",
   "execution_count": 47,
   "id": "4d89d08a",
   "metadata": {},
   "outputs": [],
   "source": [
    "# Functions ==> \n",
    "# (1). Pre-defined Functions ==> input() , print() , min() , max()\n",
    "# (2). Manually Created Functions ==> \n",
    "# (a). def \n",
    "# (b). Name_of_function \n",
    "# (c).logics in function \n",
    "# (d). Call the function "
   ]
  },
  {
   "cell_type": "code",
   "execution_count": 54,
   "id": "e91576d7",
   "metadata": {},
   "outputs": [
    {
     "name": "stdout",
     "output_type": "stream",
     "text": [
      "Total Addition = 12\n"
     ]
    }
   ],
   "source": [
    "def my_add():\n",
    "    a = 5\n",
    "    b = 7\n",
    "    c = a + b\n",
    "    print(\"Total Addition =\" , c)\n",
    "my_add() "
   ]
  },
  {
   "cell_type": "code",
   "execution_count": 55,
   "id": "49c8882f",
   "metadata": {},
   "outputs": [
    {
     "name": "stdout",
     "output_type": "stream",
     "text": [
      "Total Addition =  7\n"
     ]
    }
   ],
   "source": [
    "# Parameters And Arguments in Functions \n",
    "\n",
    "def my_add(a,b):\n",
    "    c = a + b \n",
    "    print(\"Total Addition = \" , c)\n",
    "my_add(3,4)"
   ]
  },
  {
   "cell_type": "code",
   "execution_count": 56,
   "id": "d8332b24",
   "metadata": {},
   "outputs": [],
   "source": [
    "# 3,4 ==> Arguments \n",
    "# a,b ==> Parameters "
   ]
  },
  {
   "cell_type": "code",
   "execution_count": 57,
   "id": "7f48030f",
   "metadata": {},
   "outputs": [],
   "source": [
    "# List And tuple "
   ]
  },
  {
   "cell_type": "code",
   "execution_count": 58,
   "id": "98e35c8c",
   "metadata": {},
   "outputs": [],
   "source": [
    "# [], mutable data type "
   ]
  },
  {
   "cell_type": "code",
   "execution_count": 59,
   "id": "70a30a45",
   "metadata": {},
   "outputs": [],
   "source": [
    "a = ['sam' , 56 , 'Raj' , 90]"
   ]
  },
  {
   "cell_type": "code",
   "execution_count": 60,
   "id": "e3074a41",
   "metadata": {},
   "outputs": [
    {
     "data": {
      "text/plain": [
       "list"
      ]
     },
     "execution_count": 60,
     "metadata": {},
     "output_type": "execute_result"
    }
   ],
   "source": [
    "type(a)"
   ]
  },
  {
   "cell_type": "code",
   "execution_count": 61,
   "id": "2f018698",
   "metadata": {},
   "outputs": [
    {
     "data": {
      "text/plain": [
       "['sam', 56, 'Raj', 90]"
      ]
     },
     "execution_count": 61,
     "metadata": {},
     "output_type": "execute_result"
    }
   ],
   "source": [
    "a"
   ]
  },
  {
   "cell_type": "code",
   "execution_count": 66,
   "id": "21032421",
   "metadata": {},
   "outputs": [],
   "source": [
    "a[3] = 666000"
   ]
  },
  {
   "cell_type": "code",
   "execution_count": 67,
   "id": "e9caaa47",
   "metadata": {},
   "outputs": [
    {
     "data": {
      "text/plain": [
       "['sam', 56, 'Raj', 666000]"
      ]
     },
     "execution_count": 67,
     "metadata": {},
     "output_type": "execute_result"
    }
   ],
   "source": [
    "a"
   ]
  },
  {
   "cell_type": "code",
   "execution_count": 68,
   "id": "60f07c08",
   "metadata": {},
   "outputs": [],
   "source": [
    "# (2). tuple \n",
    "a = (45 , 'sam' , 90 , 67.90)"
   ]
  },
  {
   "cell_type": "code",
   "execution_count": 71,
   "id": "7ccc978b",
   "metadata": {},
   "outputs": [],
   "source": [
    "# a[1]= 'Rahul'"
   ]
  },
  {
   "cell_type": "code",
   "execution_count": 72,
   "id": "346e73f5",
   "metadata": {},
   "outputs": [],
   "source": [
    "b = list(a)"
   ]
  },
  {
   "cell_type": "code",
   "execution_count": 73,
   "id": "f1a0070d",
   "metadata": {},
   "outputs": [
    {
     "data": {
      "text/plain": [
       "[45, 'sam', 90, 67.9]"
      ]
     },
     "execution_count": 73,
     "metadata": {},
     "output_type": "execute_result"
    }
   ],
   "source": [
    "b"
   ]
  },
  {
   "cell_type": "code",
   "execution_count": 75,
   "id": "8b1e6cfd",
   "metadata": {},
   "outputs": [],
   "source": [
    "b[1]='Rahul'"
   ]
  },
  {
   "cell_type": "code",
   "execution_count": 76,
   "id": "b4030f81",
   "metadata": {},
   "outputs": [
    {
     "data": {
      "text/plain": [
       "[45, 'Rahul', 90, 67.9]"
      ]
     },
     "execution_count": 76,
     "metadata": {},
     "output_type": "execute_result"
    }
   ],
   "source": [
    "b"
   ]
  },
  {
   "cell_type": "code",
   "execution_count": 77,
   "id": "2a5bcd06",
   "metadata": {},
   "outputs": [],
   "source": [
    "c = tuple(b)"
   ]
  },
  {
   "cell_type": "code",
   "execution_count": 78,
   "id": "ca2f1d41",
   "metadata": {},
   "outputs": [
    {
     "data": {
      "text/plain": [
       "(45, 'Rahul', 90, 67.9)"
      ]
     },
     "execution_count": 78,
     "metadata": {},
     "output_type": "execute_result"
    }
   ],
   "source": [
    "c"
   ]
  },
  {
   "cell_type": "code",
   "execution_count": null,
   "id": "65aa0ca2",
   "metadata": {},
   "outputs": [],
   "source": []
  }
 ],
 "metadata": {
  "kernelspec": {
   "display_name": "Python 3 (ipykernel)",
   "language": "python",
   "name": "python3"
  },
  "language_info": {
   "codemirror_mode": {
    "name": "ipython",
    "version": 3
   },
   "file_extension": ".py",
   "mimetype": "text/x-python",
   "name": "python",
   "nbconvert_exporter": "python",
   "pygments_lexer": "ipython3",
   "version": "3.9.12"
  }
 },
 "nbformat": 4,
 "nbformat_minor": 5
}
